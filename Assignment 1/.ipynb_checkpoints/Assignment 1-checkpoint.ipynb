{
 "cells": [
  {
   "cell_type": "code",
   "execution_count": 1,
   "metadata": {
    "collapsed": true
   },
   "outputs": [],
   "source": [
    "import numpy as np\n",
    "import pandas as pd\n",
    "import itertools\n",
    "\n",
    "from sklearn import model_selection\n",
    "from sklearn.linear_model import LinearRegression\n",
    "from sklearn.metrics import mean_squared_error\n",
    "from sklearn.linear_model import Ridge,Lasso\n",
    "from statsmodels.stats.outliers_influence import variance_inflation_factor\n",
    "\n",
    "import statsmodels.api as sm\n",
    "import statsmodels.formula.api as smf\n",
    "from scipy import stats\n",
    "\n",
    "%matplotlib inline\n",
    "%config InlineBackend.figure_format ='retina'\n",
    "import seaborn as sns \n",
    "import matplotlib.pyplot as plt\n",
    "\n",
    "from tqdm import tqdm #Importing tqdm for the progress bar"
   ]
  },
  {
   "cell_type": "markdown",
   "metadata": {},
   "source": [
    "# Goal\n",
    "Compare all four models (least squares regression, best-subset, ridge, and lasso) resulting from optimally tuned parameters (subset size or shrinkage) on the test set. Report prediction accuracies and draw conclusions. Please make sure to at least address the following points:\n",
    "- (a) Comment on the magnitude of the differences.\n",
    "- (b) Make an informed comparison against the least squares results, i.e. try to connect the theory to the results you have found.\n",
    "- (c) Is any of the models useful to predict the outcome of housing prices? Explain why.\n",
    "- (d) Compare the test-set error against the CV-error. Explain your findings."
   ]
  },
  {
   "cell_type": "markdown",
   "metadata": {},
   "source": [
    "# Introductory analyses"
   ]
  },
  {
   "cell_type": "code",
   "execution_count": 16,
   "metadata": {
    "collapsed": true
   },
   "outputs": [],
   "source": [
    "data = pd.read_csv('../data/housing-p.data.txt',sep=' ',header=0)"
   ]
  },
  {
   "cell_type": "code",
   "execution_count": 17,
   "metadata": {
    "collapsed": true
   },
   "outputs": [],
   "source": [
    "X = data.iloc[:,0:-1]\n",
    "y = data.iloc[:,-1]"
   ]
  },
  {
   "cell_type": "code",
   "execution_count": 18,
   "metadata": {},
   "outputs": [
    {
     "data": {
      "text/plain": [
       "CRIM       float64\n",
       "ZN         float64\n",
       "INDUS      float64\n",
       "CHAS         int64\n",
       "NOX        float64\n",
       "RM         float64\n",
       "AGE        float64\n",
       "DIS        float64\n",
       "RAD          int64\n",
       "TAX          int64\n",
       "PTRATIO    float64\n",
       "B          float64\n",
       "LSTAT      float64\n",
       "dtype: object"
      ]
     },
     "execution_count": 18,
     "metadata": {},
     "output_type": "execute_result"
    }
   ],
   "source": [
    "X.dtypes"
   ]
  },
  {
   "cell_type": "code",
   "execution_count": 19,
   "metadata": {},
   "outputs": [
    {
     "data": {
      "text/plain": [
       "0    471\n",
       "1     35\n",
       "Name: CHAS, dtype: int64"
      ]
     },
     "execution_count": 19,
     "metadata": {},
     "output_type": "execute_result"
    }
   ],
   "source": [
    "X.CHAS.value_counts()"
   ]
  },
  {
   "cell_type": "code",
   "execution_count": 20,
   "metadata": {},
   "outputs": [
    {
     "data": {
      "text/html": [
       "<div>\n",
       "<style scoped>\n",
       "    .dataframe tbody tr th:only-of-type {\n",
       "        vertical-align: middle;\n",
       "    }\n",
       "\n",
       "    .dataframe tbody tr th {\n",
       "        vertical-align: top;\n",
       "    }\n",
       "\n",
       "    .dataframe thead th {\n",
       "        text-align: right;\n",
       "    }\n",
       "</style>\n",
       "<table border=\"1\" class=\"dataframe\">\n",
       "  <thead>\n",
       "    <tr style=\"text-align: right;\">\n",
       "      <th></th>\n",
       "      <th>CRIM</th>\n",
       "      <th>ZN</th>\n",
       "      <th>INDUS</th>\n",
       "      <th>CHAS</th>\n",
       "      <th>NOX</th>\n",
       "      <th>RM</th>\n",
       "      <th>AGE</th>\n",
       "      <th>DIS</th>\n",
       "      <th>RAD</th>\n",
       "      <th>TAX</th>\n",
       "      <th>PTRATIO</th>\n",
       "      <th>B</th>\n",
       "      <th>LSTAT</th>\n",
       "    </tr>\n",
       "  </thead>\n",
       "  <tbody>\n",
       "    <tr>\n",
       "      <th>count</th>\n",
       "      <td>506.000000</td>\n",
       "      <td>506.000000</td>\n",
       "      <td>506.000000</td>\n",
       "      <td>506.000000</td>\n",
       "      <td>506.000000</td>\n",
       "      <td>506.000000</td>\n",
       "      <td>506.000000</td>\n",
       "      <td>506.000000</td>\n",
       "      <td>506.000000</td>\n",
       "      <td>506.000000</td>\n",
       "      <td>506.000000</td>\n",
       "      <td>506.000000</td>\n",
       "      <td>506.000000</td>\n",
       "    </tr>\n",
       "    <tr>\n",
       "      <th>mean</th>\n",
       "      <td>3.613524</td>\n",
       "      <td>11.363636</td>\n",
       "      <td>11.136779</td>\n",
       "      <td>0.069170</td>\n",
       "      <td>0.554695</td>\n",
       "      <td>6.284634</td>\n",
       "      <td>68.574901</td>\n",
       "      <td>3.795043</td>\n",
       "      <td>9.549407</td>\n",
       "      <td>408.237154</td>\n",
       "      <td>18.455534</td>\n",
       "      <td>356.674032</td>\n",
       "      <td>12.653063</td>\n",
       "    </tr>\n",
       "    <tr>\n",
       "      <th>std</th>\n",
       "      <td>8.601545</td>\n",
       "      <td>23.322453</td>\n",
       "      <td>6.860353</td>\n",
       "      <td>0.253994</td>\n",
       "      <td>0.115878</td>\n",
       "      <td>0.702617</td>\n",
       "      <td>28.148861</td>\n",
       "      <td>2.105710</td>\n",
       "      <td>8.707259</td>\n",
       "      <td>168.537116</td>\n",
       "      <td>2.164946</td>\n",
       "      <td>91.294864</td>\n",
       "      <td>7.141062</td>\n",
       "    </tr>\n",
       "    <tr>\n",
       "      <th>min</th>\n",
       "      <td>0.006320</td>\n",
       "      <td>0.000000</td>\n",
       "      <td>0.460000</td>\n",
       "      <td>0.000000</td>\n",
       "      <td>0.385000</td>\n",
       "      <td>3.561000</td>\n",
       "      <td>2.900000</td>\n",
       "      <td>1.129600</td>\n",
       "      <td>1.000000</td>\n",
       "      <td>187.000000</td>\n",
       "      <td>12.600000</td>\n",
       "      <td>0.320000</td>\n",
       "      <td>1.730000</td>\n",
       "    </tr>\n",
       "    <tr>\n",
       "      <th>25%</th>\n",
       "      <td>0.082045</td>\n",
       "      <td>0.000000</td>\n",
       "      <td>5.190000</td>\n",
       "      <td>0.000000</td>\n",
       "      <td>0.449000</td>\n",
       "      <td>5.885500</td>\n",
       "      <td>45.025000</td>\n",
       "      <td>2.100175</td>\n",
       "      <td>4.000000</td>\n",
       "      <td>279.000000</td>\n",
       "      <td>17.400000</td>\n",
       "      <td>375.377500</td>\n",
       "      <td>6.950000</td>\n",
       "    </tr>\n",
       "    <tr>\n",
       "      <th>50%</th>\n",
       "      <td>0.256510</td>\n",
       "      <td>0.000000</td>\n",
       "      <td>9.690000</td>\n",
       "      <td>0.000000</td>\n",
       "      <td>0.538000</td>\n",
       "      <td>6.208500</td>\n",
       "      <td>77.500000</td>\n",
       "      <td>3.207450</td>\n",
       "      <td>5.000000</td>\n",
       "      <td>330.000000</td>\n",
       "      <td>19.050000</td>\n",
       "      <td>391.440000</td>\n",
       "      <td>11.360000</td>\n",
       "    </tr>\n",
       "    <tr>\n",
       "      <th>75%</th>\n",
       "      <td>3.677082</td>\n",
       "      <td>12.500000</td>\n",
       "      <td>18.100000</td>\n",
       "      <td>0.000000</td>\n",
       "      <td>0.624000</td>\n",
       "      <td>6.623500</td>\n",
       "      <td>94.075000</td>\n",
       "      <td>5.188425</td>\n",
       "      <td>24.000000</td>\n",
       "      <td>666.000000</td>\n",
       "      <td>20.200000</td>\n",
       "      <td>396.225000</td>\n",
       "      <td>16.955000</td>\n",
       "    </tr>\n",
       "    <tr>\n",
       "      <th>max</th>\n",
       "      <td>88.976200</td>\n",
       "      <td>100.000000</td>\n",
       "      <td>27.740000</td>\n",
       "      <td>1.000000</td>\n",
       "      <td>0.871000</td>\n",
       "      <td>8.780000</td>\n",
       "      <td>100.000000</td>\n",
       "      <td>12.126500</td>\n",
       "      <td>24.000000</td>\n",
       "      <td>711.000000</td>\n",
       "      <td>22.000000</td>\n",
       "      <td>396.900000</td>\n",
       "      <td>37.970000</td>\n",
       "    </tr>\n",
       "  </tbody>\n",
       "</table>\n",
       "</div>"
      ],
      "text/plain": [
       "             CRIM          ZN       INDUS        CHAS         NOX          RM  \\\n",
       "count  506.000000  506.000000  506.000000  506.000000  506.000000  506.000000   \n",
       "mean     3.613524   11.363636   11.136779    0.069170    0.554695    6.284634   \n",
       "std      8.601545   23.322453    6.860353    0.253994    0.115878    0.702617   \n",
       "min      0.006320    0.000000    0.460000    0.000000    0.385000    3.561000   \n",
       "25%      0.082045    0.000000    5.190000    0.000000    0.449000    5.885500   \n",
       "50%      0.256510    0.000000    9.690000    0.000000    0.538000    6.208500   \n",
       "75%      3.677082   12.500000   18.100000    0.000000    0.624000    6.623500   \n",
       "max     88.976200  100.000000   27.740000    1.000000    0.871000    8.780000   \n",
       "\n",
       "              AGE         DIS         RAD         TAX     PTRATIO           B  \\\n",
       "count  506.000000  506.000000  506.000000  506.000000  506.000000  506.000000   \n",
       "mean    68.574901    3.795043    9.549407  408.237154   18.455534  356.674032   \n",
       "std     28.148861    2.105710    8.707259  168.537116    2.164946   91.294864   \n",
       "min      2.900000    1.129600    1.000000  187.000000   12.600000    0.320000   \n",
       "25%     45.025000    2.100175    4.000000  279.000000   17.400000  375.377500   \n",
       "50%     77.500000    3.207450    5.000000  330.000000   19.050000  391.440000   \n",
       "75%     94.075000    5.188425   24.000000  666.000000   20.200000  396.225000   \n",
       "max    100.000000   12.126500   24.000000  711.000000   22.000000  396.900000   \n",
       "\n",
       "            LSTAT  \n",
       "count  506.000000  \n",
       "mean    12.653063  \n",
       "std      7.141062  \n",
       "min      1.730000  \n",
       "25%      6.950000  \n",
       "50%     11.360000  \n",
       "75%     16.955000  \n",
       "max     37.970000  "
      ]
     },
     "execution_count": 20,
     "metadata": {},
     "output_type": "execute_result"
    }
   ],
   "source": [
    "X.describe() "
   ]
  },
  {
   "cell_type": "markdown",
   "metadata": {},
   "source": [
    "We have a data size of 506 with 13 variables. 12 of these variables can be considered continuous. However, 'CHAS' will be considered as categorical variable."
   ]
  },
  {
   "cell_type": "markdown",
   "metadata": {},
   "source": [
    "## Check Assuptions\n",
    "\n",
    "- Normality of err\n",
    "- Constant variance of err\n",
    "- Independence"
   ]
  },
  {
   "cell_type": "code",
   "execution_count": 21,
   "metadata": {},
   "outputs": [],
   "source": [
    "X_constant = sm.add_constant(X)\n",
    "est = sm.OLS(y, X_constant).fit()"
   ]
  },
  {
   "cell_type": "markdown",
   "metadata": {
    "collapsed": true
   },
   "source": [
    "### Normality of err; Constant variance of err"
   ]
  },
  {
   "cell_type": "code",
   "execution_count": 10,
   "metadata": {},
   "outputs": [
    {
     "data": {
      "text/plain": [
       "[Text(0, 0.5, 'err'), Text(0.5, 0, 'y hat')]"
      ]
     },
     "execution_count": 10,
     "metadata": {},
     "output_type": "execute_result"
    },
    {
     "data": {
      "image/png": "[encoded data removed]",
      "text/plain": [
       "<Figure size 720x360 with 2 Axes>"
      ]
     },
     "metadata": {
      "image/png": {
       "height": 331,
       "width": 605
      },
      "needs_background": "light"
     },
     "output_type": "display_data"
    }
   ],
   "source": [
    "sns.mpl.rcParams['figure.figsize'] = (10, 5)\n",
    "\n",
    "fig, ax = plt.subplots(1,2)\n",
    "    \n",
    "sns.regplot(x=est.predict(), y=y, lowess=True, ax=ax[0], line_kws={'color': 'black'})\n",
    "ax[0].set_title('Observed vs. Predicted Values', fontsize=12)\n",
    "ax[0].set(xlabel='y hat', ylabel='y')\n",
    "\n",
    "sns.regplot(x=est.predict(), y=est.resid, lowess=True, ax=ax[1], line_kws={'color': 'black'})\n",
    "ax[1].set_title('Residuals vs. Predicted Values', fontsize=12)\n",
    "ax[1].set(xlabel='y hat', ylabel='err')"
   ]
  },
  {
   "cell_type": "markdown",
   "metadata": {
    "collapsed": true
   },
   "source": [
    "We can see that the errors do not have equal variance. Also we found the data might be manually cut, with the upper bound on possible values of variable of interest equal to 50."
   ]
  },
  {
   "cell_type": "code",
   "execution_count": 15,
   "metadata": {},
   "outputs": [
    {
     "data": {
      "image/png": "[encoded data removed]",
      "text/plain": [
       "<Figure size 720x360 with 1 Axes>"
      ]
     },
     "execution_count": 15,
     "metadata": {
      "image/png": {
       "height": 316,
       "width": 614
      }
     },
     "output_type": "execute_result"
    },
    {
     "data": {
      "image/png": "[encoded data removed]",
      "text/plain": [
       "<Figure size 720x360 with 1 Axes>"
      ]
     },
     "metadata": {
      "image/png": {
       "height": 316,
       "width": 614
      },
      "needs_background": "light"
     },
     "output_type": "display_data"
    }
   ],
   "source": [
    "sm.ProbPlot(est.resid).qqplot(line='s')"
   ]
  },
  {
   "cell_type": "markdown",
   "metadata": {},
   "source": [
    "We can see that the residual err is not normally distributed with many outliers to the right. It is consisitent with the preivous obersevation that the data might be manually cut."
   ]
  },
  {
   "cell_type": "markdown",
   "metadata": {},
   "source": [
    "### multicollinearity"
   ]
  },
  {
   "cell_type": "code",
   "execution_count": 11,
   "metadata": {},
   "outputs": [
    {
     "data": {
      "text/html": [
       "<div>\n",
       "<style scoped>\n",
       "    .dataframe tbody tr th:only-of-type {\n",
       "        vertical-align: middle;\n",
       "    }\n",
       "\n",
       "    .dataframe tbody tr th {\n",
       "        vertical-align: top;\n",
       "    }\n",
       "\n",
       "    .dataframe thead th {\n",
       "        text-align: right;\n",
       "    }\n",
       "</style>\n",
       "<table border=\"1\" class=\"dataframe\">\n",
       "  <thead>\n",
       "    <tr style=\"text-align: right;\">\n",
       "      <th></th>\n",
       "      <th>CRIM</th>\n",
       "      <th>ZN</th>\n",
       "      <th>INDUS</th>\n",
       "      <th>CHAS</th>\n",
       "      <th>NOX</th>\n",
       "      <th>RM</th>\n",
       "      <th>AGE</th>\n",
       "      <th>DIS</th>\n",
       "      <th>RAD</th>\n",
       "      <th>TAX</th>\n",
       "      <th>PTRATIO</th>\n",
       "      <th>B</th>\n",
       "      <th>LSTAT</th>\n",
       "    </tr>\n",
       "  </thead>\n",
       "  <tbody>\n",
       "    <tr>\n",
       "      <th>vif</th>\n",
       "      <td>1.792192</td>\n",
       "      <td>2.298758</td>\n",
       "      <td>3.991596</td>\n",
       "      <td>1.073995</td>\n",
       "      <td>4.39372</td>\n",
       "      <td>1.933744</td>\n",
       "      <td>3.100826</td>\n",
       "      <td>3.955945</td>\n",
       "      <td>7.484496</td>\n",
       "      <td>9.008554</td>\n",
       "      <td>1.799084</td>\n",
       "      <td>1.348521</td>\n",
       "      <td>2.941491</td>\n",
       "    </tr>\n",
       "  </tbody>\n",
       "</table>\n",
       "</div>"
      ],
      "text/plain": [
       "         CRIM        ZN     INDUS      CHAS      NOX        RM       AGE  \\\n",
       "vif  1.792192  2.298758  3.991596  1.073995  4.39372  1.933744  3.100826   \n",
       "\n",
       "          DIS       RAD       TAX   PTRATIO         B     LSTAT  \n",
       "vif  3.955945  7.484496  9.008554  1.799084  1.348521  2.941491  "
      ]
     },
     "execution_count": 11,
     "metadata": {},
     "output_type": "execute_result"
    }
   ],
   "source": [
    "vif = [variance_inflation_factor(X_constant.values, i) for i in range(X_constant.shape[1])]\n",
    "pd.DataFrame({'vif': vif[1:]}, index=X.columns).T"
   ]
  },
  {
   "cell_type": "markdown",
   "metadata": {},
   "source": [
    "If there was no multicollinearity between variables, the VIF would be 1 for all the variables.\n",
    "\n",
    "In our case, the VIFs for 'TAX' and 'RAD' are 9.01 and 7.48 respectively, indicating they are correlated to other features.\n",
    "\n",
    "Based on above discussion, the assumptions of linear regression are not met for our dataset.We cannot perform linear analysis on our fitted linear model. That means the p-values from the t-test, F-test are not valid. We will not rely on those for choosing parameters."
   ]
  },
  {
   "cell_type": "markdown",
   "metadata": {},
   "source": [
    "## Cross Validation"
   ]
  },
  {
   "cell_type": "markdown",
   "metadata": {
    "collapsed": true
   },
   "source": [
    "We only have 506 data points. With limited data, we will apply cross validation to Optimize the parameters. The dataset will be divided into two parts:\n",
    "- Test set: 156 data points\n",
    "- Training set: 350 data points\n",
    "\n",
    "We keep around 30% of our dataset to give a high confidence in the overall performance of our models.\n",
    "\n",
    "The training dataset is furhter divided into 5 folds. During each round, the training dataset will be futther broke downinto the two sets:\n",
    "- Cross validation - Training set: 80% of 350 data points\n",
    "- Cross validation - Development set: 20% of 350 data points\n",
    "\n",
    "We will optimize the hyper parameters, like number of features to use in the linear model, lamda, for our models using Cross validation - Training set. We will select the model with the least error using Cross validation - Development set.\n",
    "\n",
    "To compare different models, we will estimate their generalization error using test data."
   ]
  },
  {
   "cell_type": "code",
   "execution_count": 23,
   "metadata": {
    "collapsed": true
   },
   "outputs": [],
   "source": [
    "X_train, X_test, y_train, y_test = model_selection.train_test_split(X_constant,y,test_size=156,shuffle=False)"
   ]
  },
  {
   "cell_type": "markdown",
   "metadata": {},
   "source": [
    "## Fit linear model"
   ]
  },
  {
   "cell_type": "code",
   "execution_count": 24,
   "metadata": {},
   "outputs": [
    {
     "name": "stdout",
     "output_type": "stream",
     "text": [
      "                            OLS Regression Results                            \n",
      "==============================================================================\n",
      "Dep. Variable:                   MEDV   R-squared:                       0.745\n",
      "Model:                            OLS   Adj. R-squared:                  0.735\n",
      "Method:                 Least Squares   F-statistic:                     75.43\n",
      "Date:                Wed, 20 Nov 2019   Prob (F-statistic):           3.03e-91\n",
      "Time:                        14:24:21   Log-Likelihood:                -1029.2\n",
      "No. Observations:                 350   AIC:                             2086.\n",
      "Df Residuals:                     336   BIC:                             2140.\n",
      "Df Model:                          13                                         \n",
      "Covariance Type:            nonrobust                                         \n",
      "==============================================================================\n",
      "                 coef    std err          t      P>|t|      [0.025      0.975]\n",
      "------------------------------------------------------------------------------\n",
      "const         39.4003      6.174      6.381      0.000      27.255      51.546\n",
      "CRIM          -0.1135      0.042     -2.717      0.007      -0.196      -0.031\n",
      "ZN             0.0637      0.016      3.889      0.000       0.031       0.096\n",
      "INDUS          0.0248      0.074      0.337      0.736      -0.120       0.170\n",
      "CHAS           1.4861      0.998      1.489      0.137      -0.477       3.449\n",
      "NOX          -17.0320      4.701     -3.623      0.000     -26.279      -7.785\n",
      "RM             3.3580      0.522      6.428      0.000       2.330       4.386\n",
      "AGE           -0.0054      0.016     -0.344      0.731      -0.036       0.025\n",
      "DIS           -1.6425      0.239     -6.873      0.000      -2.113      -1.172\n",
      "RAD            0.2993      0.075      3.969      0.000       0.151       0.448\n",
      "TAX           -0.0138      0.004     -3.192      0.002      -0.022      -0.005\n",
      "PTRATIO       -0.8422      0.154     -5.479      0.000      -1.145      -0.540\n",
      "B              0.0063      0.003      1.987      0.048    6.42e-05       0.013\n",
      "LSTAT         -0.5216      0.061     -8.596      0.000      -0.641      -0.402\n",
      "==============================================================================\n",
      "Omnibus:                      151.303   Durbin-Watson:                   2.011\n",
      "Prob(Omnibus):                  0.000   Jarque-Bera (JB):              778.319\n",
      "Skew:                           1.778   Prob(JB):                    9.78e-170\n",
      "Kurtosis:                       9.382   Cond. No.                     1.56e+04\n",
      "==============================================================================\n",
      "\n",
      "Warnings:\n",
      "[1] Standard Errors assume that the covariance matrix of the errors is correctly specified.\n",
      "[2] The condition number is large, 1.56e+04. This might indicate that there are\n",
      "strong multicollinearity or other numerical problems.\n"
     ]
    }
   ],
   "source": [
    "est = sm.OLS(y_train, X_train)\n",
    "est2 = est.fit()\n",
    "print(est2.summary())"
   ]
  },
  {
   "cell_type": "markdown",
   "metadata": {},
   "source": [
    "## Report estimated coefficients, their standard errors, and statistical significance "
   ]
  },
  {
   "cell_type": "markdown",
   "metadata": {},
   "source": [
    "# Cross-validation and regularization"
   ]
  },
  {
   "cell_type": "code",
   "execution_count": 8,
   "metadata": {
    "collapsed": true
   },
   "outputs": [],
   "source": [
    "del X_train['const'] "
   ]
  },
  {
   "cell_type": "code",
   "execution_count": 9,
   "metadata": {
    "collapsed": true
   },
   "outputs": [],
   "source": [
    "del X_test['const'] "
   ]
  },
  {
   "cell_type": "code",
   "execution_count": 10,
   "metadata": {
    "collapsed": true
   },
   "outputs": [],
   "source": [
    "size = int(len(y_train)/5)"
   ]
  },
  {
   "cell_type": "code",
   "execution_count": 11,
   "metadata": {
    "collapsed": true
   },
   "outputs": [],
   "source": [
    "RSS_list, R_squared_list = [],[]\n",
    "for i in range(5):\n",
    "    test_index = np.arange(i*size,(i+1)*size)\n",
    "    train_index = [x for x in np.arange(0,350) if x not in test_index]\n",
    "    x_tr = X_train.iloc[train_index]\n",
    "    x_te = X_train.iloc[test_index]\n",
    "    y_tr = y_train.iloc[train_index]\n",
    "    y_te = y_train.iloc[test_index]\n",
    "    model = LinearRegression()\n",
    "    model.fit(x_tr, y_tr)\n",
    "    RSS_list.append(mean_squared_error(y_te,model.predict(x_te)) * size)\n",
    "    R_squared_list.append(model.score(x_te,y_te)) "
   ]
  },
  {
   "cell_type": "code",
   "execution_count": 12,
   "metadata": {},
   "outputs": [
    {
     "data": {
      "text/plain": [
       "([1827.6501497550853,\n",
       "  1169.2532911104697,\n",
       "  2524.6743776378926,\n",
       "  1388.4699273684323,\n",
       "  1404.6408627703004],\n",
       " [0.7225827346061061,\n",
       "  0.7905611510389149,\n",
       "  0.5381108326374417,\n",
       "  0.7058821013155587,\n",
       "  0.777761071116262])"
      ]
     },
     "execution_count": 12,
     "metadata": {},
     "output_type": "execute_result"
    }
   ],
   "source": [
    "RSS_list,R_squared_list"
   ]
  },
  {
   "cell_type": "code",
   "execution_count": 13,
   "metadata": {},
   "outputs": [
    {
     "data": {
      "text/plain": [
       "(1662.937721728436, 0.7069795781428567)"
      ]
     },
     "execution_count": 13,
     "metadata": {},
     "output_type": "execute_result"
    }
   ],
   "source": [
    "np.mean(RSS_list),np.mean(R_squared_list)"
   ]
  },
  {
   "cell_type": "markdown",
   "metadata": {},
   "source": [
    "### Perform full subset-search"
   ]
  },
  {
   "cell_type": "code",
   "execution_count": 14,
   "metadata": {
    "collapsed": true
   },
   "outputs": [],
   "source": [
    "def fit_linear_reg(X,y):\n",
    "    #Fit linear regression model and return RSS and R squared values\n",
    "    rss_list, r_squared_list = [],[]\n",
    "    for i in range(5):\n",
    "        test_index = np.arange(i*size,(i+1)*size)\n",
    "        train_index = [x for x in np.arange(0,350) if x not in test_index]\n",
    "        x_tr = X.iloc[train_index]\n",
    "        x_te = X.iloc[test_index]\n",
    "        y_tr = y.iloc[train_index]\n",
    "        y_te = y.iloc[test_index]\n",
    "        model = LinearRegression()\n",
    "        model.fit(x_tr, y_tr)\n",
    "        rss_list.append(mean_squared_error(y_te,model.predict(x_te)) * size)\n",
    "        r_squared_list.append(model.score(x_te,y_te)) \n",
    "    return np.mean(rss_list),np.mean(r_squared_list)"
   ]
  },
  {
   "cell_type": "code",
   "execution_count": 15,
   "metadata": {
    "collapsed": true
   },
   "outputs": [],
   "source": [
    "#Initialization variables\n",
    "K = len(X_train.columns)\n",
    "RSS_list, R_squared_list, feature_list = [],[],[]\n",
    "numb_features = []"
   ]
  },
  {
   "cell_type": "code",
   "execution_count": 16,
   "metadata": {},
   "outputs": [
    {
     "name": "stderr",
     "output_type": "stream",
     "text": [
      "100%|██████████| 13/13 [04:18<00:00, 19.90s/it]\n"
     ]
    }
   ],
   "source": [
    "#Looping over k = 1 to K features in X_train\n",
    "for k in tqdm(range(K)):\n",
    "    #Looping over all possible combinations: from 11 choose k\n",
    "    for combo in itertools.combinations(X_train.columns,k+1):\n",
    "        tmp_result = fit_linear_reg(X_train[list(combo)],y_train)   #Store temp result \n",
    "        RSS_list.append(tmp_result[0])                  #Append lists\n",
    "        R_squared_list.append(tmp_result[1])\n",
    "        feature_list.append(combo)\n",
    "        numb_features.append(len(combo))   \n",
    "\n",
    "#Store in DataFrame\n",
    "df = pd.DataFrame({'numb_features': numb_features,'RSS': RSS_list, 'R_squared':R_squared_list,'features':feature_list})"
   ]
  },
  {
   "cell_type": "code",
   "execution_count": 17,
   "metadata": {},
   "outputs": [
    {
     "data": {
      "text/plain": [
       "numb_features\n",
       "1       13\n",
       "2       78\n",
       "3      286\n",
       "4      715\n",
       "5     1287\n",
       "6     1716\n",
       "7     1716\n",
       "8     1287\n",
       "9      715\n",
       "10     286\n",
       "11      78\n",
       "12      13\n",
       "13       1\n",
       "dtype: int64"
      ]
     },
     "execution_count": 17,
     "metadata": {},
     "output_type": "execute_result"
    }
   ],
   "source": [
    "df.groupby('numb_features').apply(len)"
   ]
  },
  {
   "cell_type": "code",
   "execution_count": 18,
   "metadata": {},
   "outputs": [
    {
     "data": {
      "text/html": [
       "<div>\n",
       "<style scoped>\n",
       "    .dataframe tbody tr th:only-of-type {\n",
       "        vertical-align: middle;\n",
       "    }\n",
       "\n",
       "    .dataframe tbody tr th {\n",
       "        vertical-align: top;\n",
       "    }\n",
       "\n",
       "    .dataframe thead th {\n",
       "        text-align: right;\n",
       "    }\n",
       "</style>\n",
       "<table border=\"1\" class=\"dataframe\">\n",
       "  <thead>\n",
       "    <tr style=\"text-align: right;\">\n",
       "      <th></th>\n",
       "      <th>numb_features</th>\n",
       "      <th>RSS</th>\n",
       "      <th>R_squared</th>\n",
       "      <th>features</th>\n",
       "    </tr>\n",
       "  </thead>\n",
       "  <tbody>\n",
       "    <tr>\n",
       "      <th>12</th>\n",
       "      <td>1</td>\n",
       "      <td>2554.516940</td>\n",
       "      <td>0.555532</td>\n",
       "      <td>(LSTAT,)</td>\n",
       "    </tr>\n",
       "    <tr>\n",
       "      <th>69</th>\n",
       "      <td>2</td>\n",
       "      <td>2138.124258</td>\n",
       "      <td>0.625233</td>\n",
       "      <td>(RM, LSTAT)</td>\n",
       "    </tr>\n",
       "    <tr>\n",
       "      <th>340</th>\n",
       "      <td>3</td>\n",
       "      <td>1922.073981</td>\n",
       "      <td>0.659838</td>\n",
       "      <td>(RM, PTRATIO, LSTAT)</td>\n",
       "    </tr>\n",
       "  </tbody>\n",
       "</table>\n",
       "</div>"
      ],
      "text/plain": [
       "     numb_features          RSS  R_squared              features\n",
       "12               1  2554.516940   0.555532              (LSTAT,)\n",
       "69               2  2138.124258   0.625233           (RM, LSTAT)\n",
       "340              3  1922.073981   0.659838  (RM, PTRATIO, LSTAT)"
      ]
     },
     "metadata": {},
     "output_type": "display_data"
    },
    {
     "data": {
      "text/html": [
       "<div>\n",
       "<style scoped>\n",
       "    .dataframe tbody tr th:only-of-type {\n",
       "        vertical-align: middle;\n",
       "    }\n",
       "\n",
       "    .dataframe tbody tr th {\n",
       "        vertical-align: top;\n",
       "    }\n",
       "\n",
       "    .dataframe thead th {\n",
       "        text-align: right;\n",
       "    }\n",
       "</style>\n",
       "<table border=\"1\" class=\"dataframe\">\n",
       "  <thead>\n",
       "    <tr style=\"text-align: right;\">\n",
       "      <th></th>\n",
       "      <th>numb_features</th>\n",
       "      <th>RSS</th>\n",
       "      <th>R_squared</th>\n",
       "      <th>features</th>\n",
       "    </tr>\n",
       "  </thead>\n",
       "  <tbody>\n",
       "    <tr>\n",
       "      <th>12</th>\n",
       "      <td>1</td>\n",
       "      <td>2554.516940</td>\n",
       "      <td>0.555532</td>\n",
       "      <td>(LSTAT,)</td>\n",
       "    </tr>\n",
       "    <tr>\n",
       "      <th>69</th>\n",
       "      <td>2</td>\n",
       "      <td>2138.124258</td>\n",
       "      <td>0.625233</td>\n",
       "      <td>(RM, LSTAT)</td>\n",
       "    </tr>\n",
       "    <tr>\n",
       "      <th>340</th>\n",
       "      <td>3</td>\n",
       "      <td>1922.073981</td>\n",
       "      <td>0.659838</td>\n",
       "      <td>(RM, PTRATIO, LSTAT)</td>\n",
       "    </tr>\n",
       "  </tbody>\n",
       "</table>\n",
       "</div>"
      ],
      "text/plain": [
       "     numb_features          RSS  R_squared              features\n",
       "12               1  2554.516940   0.555532              (LSTAT,)\n",
       "69               2  2138.124258   0.625233           (RM, LSTAT)\n",
       "340              3  1922.073981   0.659838  (RM, PTRATIO, LSTAT)"
      ]
     },
     "metadata": {},
     "output_type": "display_data"
    }
   ],
   "source": [
    "df_min = df[df['RSS'] == df.groupby('numb_features')['RSS'].transform(min)]\n",
    "df_max = df[df['R_squared'] == df.groupby('numb_features')['R_squared'].transform(max)]"
   ]
  },
  {
   "cell_type": "code",
   "execution_count": 19,
   "metadata": {},
   "outputs": [
    {
     "data": {
      "text/html": [
       "<div>\n",
       "<style scoped>\n",
       "    .dataframe tbody tr th:only-of-type {\n",
       "        vertical-align: middle;\n",
       "    }\n",
       "\n",
       "    .dataframe tbody tr th {\n",
       "        vertical-align: top;\n",
       "    }\n",
       "\n",
       "    .dataframe thead th {\n",
       "        text-align: right;\n",
       "    }\n",
       "</style>\n",
       "<table border=\"1\" class=\"dataframe\">\n",
       "  <thead>\n",
       "    <tr style=\"text-align: right;\">\n",
       "      <th></th>\n",
       "      <th>numb_features</th>\n",
       "      <th>RSS</th>\n",
       "      <th>R_squared</th>\n",
       "      <th>features</th>\n",
       "    </tr>\n",
       "  </thead>\n",
       "  <tbody>\n",
       "    <tr>\n",
       "      <th>12</th>\n",
       "      <td>1</td>\n",
       "      <td>2554.516940</td>\n",
       "      <td>0.555532</td>\n",
       "      <td>(LSTAT,)</td>\n",
       "    </tr>\n",
       "    <tr>\n",
       "      <th>69</th>\n",
       "      <td>2</td>\n",
       "      <td>2138.124258</td>\n",
       "      <td>0.625233</td>\n",
       "      <td>(RM, LSTAT)</td>\n",
       "    </tr>\n",
       "    <tr>\n",
       "      <th>340</th>\n",
       "      <td>3</td>\n",
       "      <td>1922.073981</td>\n",
       "      <td>0.659838</td>\n",
       "      <td>(RM, PTRATIO, LSTAT)</td>\n",
       "    </tr>\n",
       "    <tr>\n",
       "      <th>1045</th>\n",
       "      <td>4</td>\n",
       "      <td>1861.075186</td>\n",
       "      <td>0.671818</td>\n",
       "      <td>(RM, DIS, PTRATIO, LSTAT)</td>\n",
       "    </tr>\n",
       "    <tr>\n",
       "      <th>2276</th>\n",
       "      <td>5</td>\n",
       "      <td>1755.510248</td>\n",
       "      <td>0.690571</td>\n",
       "      <td>(NOX, RM, DIS, PTRATIO, LSTAT)</td>\n",
       "    </tr>\n",
       "    <tr>\n",
       "      <th>4040</th>\n",
       "      <td>6</td>\n",
       "      <td>1729.556468</td>\n",
       "      <td>0.694857</td>\n",
       "      <td>(NOX, RM, DIS, PTRATIO, B, LSTAT)</td>\n",
       "    </tr>\n",
       "    <tr>\n",
       "      <th>5426</th>\n",
       "      <td>7</td>\n",
       "      <td>1709.750172</td>\n",
       "      <td>0.699008</td>\n",
       "      <td>(ZN, NOX, RM, DIS, PTRATIO, B, LSTAT)</td>\n",
       "    </tr>\n",
       "    <tr>\n",
       "      <th>6218</th>\n",
       "      <td>8</td>\n",
       "      <td>1699.551799</td>\n",
       "      <td>0.700608</td>\n",
       "      <td>(CRIM, ZN, NOX, RM, DIS, PTRATIO, B, LSTAT)</td>\n",
       "    </tr>\n",
       "    <tr>\n",
       "      <th>7408</th>\n",
       "      <td>9</td>\n",
       "      <td>1659.144811</td>\n",
       "      <td>0.708006</td>\n",
       "      <td>(CRIM, ZN, NOX, RM, DIS, RAD, TAX, PTRATIO, LS...</td>\n",
       "    </tr>\n",
       "    <tr>\n",
       "      <th>7975</th>\n",
       "      <td>10</td>\n",
       "      <td>1641.550876</td>\n",
       "      <td>0.710804</td>\n",
       "      <td>(CRIM, ZN, NOX, RM, DIS, RAD, TAX, PTRATIO, B,...</td>\n",
       "    </tr>\n",
       "    <tr>\n",
       "      <th>8150</th>\n",
       "      <td>11</td>\n",
       "      <td>1645.142417</td>\n",
       "      <td>0.710237</td>\n",
       "      <td>(CRIM, ZN, CHAS, NOX, RM, DIS, RAD, TAX, PTRAT...</td>\n",
       "    </tr>\n",
       "    <tr>\n",
       "      <th>8183</th>\n",
       "      <td>12</td>\n",
       "      <td>1648.991197</td>\n",
       "      <td>0.709517</td>\n",
       "      <td>(CRIM, ZN, INDUS, CHAS, NOX, RM, DIS, RAD, TAX...</td>\n",
       "    </tr>\n",
       "    <tr>\n",
       "      <th>8190</th>\n",
       "      <td>13</td>\n",
       "      <td>1662.937722</td>\n",
       "      <td>0.706980</td>\n",
       "      <td>(CRIM, ZN, INDUS, CHAS, NOX, RM, AGE, DIS, RAD...</td>\n",
       "    </tr>\n",
       "  </tbody>\n",
       "</table>\n",
       "</div>"
      ],
      "text/plain": [
       "      numb_features          RSS  R_squared  \\\n",
       "12                1  2554.516940   0.555532   \n",
       "69                2  2138.124258   0.625233   \n",
       "340               3  1922.073981   0.659838   \n",
       "1045              4  1861.075186   0.671818   \n",
       "2276              5  1755.510248   0.690571   \n",
       "4040              6  1729.556468   0.694857   \n",
       "5426              7  1709.750172   0.699008   \n",
       "6218              8  1699.551799   0.700608   \n",
       "7408              9  1659.144811   0.708006   \n",
       "7975             10  1641.550876   0.710804   \n",
       "8150             11  1645.142417   0.710237   \n",
       "8183             12  1648.991197   0.709517   \n",
       "8190             13  1662.937722   0.706980   \n",
       "\n",
       "                                               features  \n",
       "12                                             (LSTAT,)  \n",
       "69                                          (RM, LSTAT)  \n",
       "340                                (RM, PTRATIO, LSTAT)  \n",
       "1045                          (RM, DIS, PTRATIO, LSTAT)  \n",
       "2276                     (NOX, RM, DIS, PTRATIO, LSTAT)  \n",
       "4040                  (NOX, RM, DIS, PTRATIO, B, LSTAT)  \n",
       "5426              (ZN, NOX, RM, DIS, PTRATIO, B, LSTAT)  \n",
       "6218        (CRIM, ZN, NOX, RM, DIS, PTRATIO, B, LSTAT)  \n",
       "7408  (CRIM, ZN, NOX, RM, DIS, RAD, TAX, PTRATIO, LS...  \n",
       "7975  (CRIM, ZN, NOX, RM, DIS, RAD, TAX, PTRATIO, B,...  \n",
       "8150  (CRIM, ZN, CHAS, NOX, RM, DIS, RAD, TAX, PTRAT...  \n",
       "8183  (CRIM, ZN, INDUS, CHAS, NOX, RM, DIS, RAD, TAX...  \n",
       "8190  (CRIM, ZN, INDUS, CHAS, NOX, RM, AGE, DIS, RAD...  "
      ]
     },
     "metadata": {},
     "output_type": "display_data"
    },
    {
     "data": {
      "text/html": [
       "<div>\n",
       "<style scoped>\n",
       "    .dataframe tbody tr th:only-of-type {\n",
       "        vertical-align: middle;\n",
       "    }\n",
       "\n",
       "    .dataframe tbody tr th {\n",
       "        vertical-align: top;\n",
       "    }\n",
       "\n",
       "    .dataframe thead th {\n",
       "        text-align: right;\n",
       "    }\n",
       "</style>\n",
       "<table border=\"1\" class=\"dataframe\">\n",
       "  <thead>\n",
       "    <tr style=\"text-align: right;\">\n",
       "      <th></th>\n",
       "      <th>numb_features</th>\n",
       "      <th>RSS</th>\n",
       "      <th>R_squared</th>\n",
       "      <th>features</th>\n",
       "    </tr>\n",
       "  </thead>\n",
       "  <tbody>\n",
       "    <tr>\n",
       "      <th>12</th>\n",
       "      <td>1</td>\n",
       "      <td>2554.516940</td>\n",
       "      <td>0.555532</td>\n",
       "      <td>(LSTAT,)</td>\n",
       "    </tr>\n",
       "    <tr>\n",
       "      <th>69</th>\n",
       "      <td>2</td>\n",
       "      <td>2138.124258</td>\n",
       "      <td>0.625233</td>\n",
       "      <td>(RM, LSTAT)</td>\n",
       "    </tr>\n",
       "    <tr>\n",
       "      <th>340</th>\n",
       "      <td>3</td>\n",
       "      <td>1922.073981</td>\n",
       "      <td>0.659838</td>\n",
       "      <td>(RM, PTRATIO, LSTAT)</td>\n",
       "    </tr>\n",
       "    <tr>\n",
       "      <th>1045</th>\n",
       "      <td>4</td>\n",
       "      <td>1861.075186</td>\n",
       "      <td>0.671818</td>\n",
       "      <td>(RM, DIS, PTRATIO, LSTAT)</td>\n",
       "    </tr>\n",
       "    <tr>\n",
       "      <th>2276</th>\n",
       "      <td>5</td>\n",
       "      <td>1755.510248</td>\n",
       "      <td>0.690571</td>\n",
       "      <td>(NOX, RM, DIS, PTRATIO, LSTAT)</td>\n",
       "    </tr>\n",
       "    <tr>\n",
       "      <th>4040</th>\n",
       "      <td>6</td>\n",
       "      <td>1729.556468</td>\n",
       "      <td>0.694857</td>\n",
       "      <td>(NOX, RM, DIS, PTRATIO, B, LSTAT)</td>\n",
       "    </tr>\n",
       "    <tr>\n",
       "      <th>5426</th>\n",
       "      <td>7</td>\n",
       "      <td>1709.750172</td>\n",
       "      <td>0.699008</td>\n",
       "      <td>(ZN, NOX, RM, DIS, PTRATIO, B, LSTAT)</td>\n",
       "    </tr>\n",
       "    <tr>\n",
       "      <th>6218</th>\n",
       "      <td>8</td>\n",
       "      <td>1699.551799</td>\n",
       "      <td>0.700608</td>\n",
       "      <td>(CRIM, ZN, NOX, RM, DIS, PTRATIO, B, LSTAT)</td>\n",
       "    </tr>\n",
       "    <tr>\n",
       "      <th>7408</th>\n",
       "      <td>9</td>\n",
       "      <td>1659.144811</td>\n",
       "      <td>0.708006</td>\n",
       "      <td>(CRIM, ZN, NOX, RM, DIS, RAD, TAX, PTRATIO, LS...</td>\n",
       "    </tr>\n",
       "    <tr>\n",
       "      <th>7975</th>\n",
       "      <td>10</td>\n",
       "      <td>1641.550876</td>\n",
       "      <td>0.710804</td>\n",
       "      <td>(CRIM, ZN, NOX, RM, DIS, RAD, TAX, PTRATIO, B,...</td>\n",
       "    </tr>\n",
       "    <tr>\n",
       "      <th>8150</th>\n",
       "      <td>11</td>\n",
       "      <td>1645.142417</td>\n",
       "      <td>0.710237</td>\n",
       "      <td>(CRIM, ZN, CHAS, NOX, RM, DIS, RAD, TAX, PTRAT...</td>\n",
       "    </tr>\n",
       "    <tr>\n",
       "      <th>8183</th>\n",
       "      <td>12</td>\n",
       "      <td>1648.991197</td>\n",
       "      <td>0.709517</td>\n",
       "      <td>(CRIM, ZN, INDUS, CHAS, NOX, RM, DIS, RAD, TAX...</td>\n",
       "    </tr>\n",
       "    <tr>\n",
       "      <th>8190</th>\n",
       "      <td>13</td>\n",
       "      <td>1662.937722</td>\n",
       "      <td>0.706980</td>\n",
       "      <td>(CRIM, ZN, INDUS, CHAS, NOX, RM, AGE, DIS, RAD...</td>\n",
       "    </tr>\n",
       "  </tbody>\n",
       "</table>\n",
       "</div>"
      ],
      "text/plain": [
       "      numb_features          RSS  R_squared  \\\n",
       "12                1  2554.516940   0.555532   \n",
       "69                2  2138.124258   0.625233   \n",
       "340               3  1922.073981   0.659838   \n",
       "1045              4  1861.075186   0.671818   \n",
       "2276              5  1755.510248   0.690571   \n",
       "4040              6  1729.556468   0.694857   \n",
       "5426              7  1709.750172   0.699008   \n",
       "6218              8  1699.551799   0.700608   \n",
       "7408              9  1659.144811   0.708006   \n",
       "7975             10  1641.550876   0.710804   \n",
       "8150             11  1645.142417   0.710237   \n",
       "8183             12  1648.991197   0.709517   \n",
       "8190             13  1662.937722   0.706980   \n",
       "\n",
       "                                               features  \n",
       "12                                             (LSTAT,)  \n",
       "69                                          (RM, LSTAT)  \n",
       "340                                (RM, PTRATIO, LSTAT)  \n",
       "1045                          (RM, DIS, PTRATIO, LSTAT)  \n",
       "2276                     (NOX, RM, DIS, PTRATIO, LSTAT)  \n",
       "4040                  (NOX, RM, DIS, PTRATIO, B, LSTAT)  \n",
       "5426              (ZN, NOX, RM, DIS, PTRATIO, B, LSTAT)  \n",
       "6218        (CRIM, ZN, NOX, RM, DIS, PTRATIO, B, LSTAT)  \n",
       "7408  (CRIM, ZN, NOX, RM, DIS, RAD, TAX, PTRATIO, LS...  \n",
       "7975  (CRIM, ZN, NOX, RM, DIS, RAD, TAX, PTRATIO, B,...  \n",
       "8150  (CRIM, ZN, CHAS, NOX, RM, DIS, RAD, TAX, PTRAT...  \n",
       "8183  (CRIM, ZN, INDUS, CHAS, NOX, RM, DIS, RAD, TAX...  \n",
       "8190  (CRIM, ZN, INDUS, CHAS, NOX, RM, AGE, DIS, RAD...  "
      ]
     },
     "metadata": {},
     "output_type": "display_data"
    }
   ],
   "source": [
    "display(df_min)\n",
    "display(df_max)"
   ]
  },
  {
   "cell_type": "markdown",
   "metadata": {},
   "source": [
    "### Apply ridge regression"
   ]
  },
  {
   "cell_type": "code",
   "execution_count": 21,
   "metadata": {
    "collapsed": true
   },
   "outputs": [],
   "source": [
    "def fit_ridge_reg(X,y,C):\n",
    "    #Fit ridge regression model and return RSS and R squared values\n",
    "    rss_list, r_squared_list = [],[]\n",
    "    for i in range(5):\n",
    "        test_index = np.arange(i*size,(i+1)*size)\n",
    "        train_index = [x for x in np.arange(0,350) if x not in test_index]\n",
    "        x_tr = X.iloc[train_index]\n",
    "        x_te = X.iloc[test_index]\n",
    "        y_tr = y.iloc[train_index]\n",
    "        y_te = y.iloc[test_index]\n",
    "        model = Ridge(alpha=C,fit_intercept=True, normalize=False)\n",
    "        model.fit(x_tr, y_tr)\n",
    "        rss_list.append(mean_squared_error(y_te,model.predict(x_te)) * size)\n",
    "        r_squared_list.append(model.score(x_te,y_te)) \n",
    "    return np.mean(rss_list),np.mean(r_squared_list)"
   ]
  },
  {
   "cell_type": "code",
   "execution_count": 24,
   "metadata": {},
   "outputs": [
    {
     "name": "stderr",
     "output_type": "stream",
     "text": [
      "100%|██████████| 9/9 [00:00<00:00, 28.91it/s]\n"
     ]
    }
   ],
   "source": [
    "RSS_list, R_squared_list, C_list = [],[],[]\n",
    "#Looping over alphas=[1e-3, 1e-2, 1e-1, 1]\n",
    "alphas=[1e-3, 1e-2, 1e-1, 1, 2,3,4,10, 100]\n",
    "for i in tqdm(range(len(alphas))):\n",
    "    C = alphas[i]\n",
    "    tmp_result = fit_ridge_reg(X_train,y_train,C)   #Store temp result \n",
    "    RSS_list.append(tmp_result[0])                  #Append lists\n",
    "    R_squared_list.append(tmp_result[1])\n",
    "    C_list.append(C) \n",
    "\n",
    "#Store in DataFrame\n",
    "df = pd.DataFrame({'C': C_list,'RSS': RSS_list, 'R_squared':R_squared_list})"
   ]
  },
  {
   "cell_type": "code",
   "execution_count": 25,
   "metadata": {},
   "outputs": [
    {
     "data": {
      "text/html": [
       "<div>\n",
       "<style scoped>\n",
       "    .dataframe tbody tr th:only-of-type {\n",
       "        vertical-align: middle;\n",
       "    }\n",
       "\n",
       "    .dataframe tbody tr th {\n",
       "        vertical-align: top;\n",
       "    }\n",
       "\n",
       "    .dataframe thead th {\n",
       "        text-align: right;\n",
       "    }\n",
       "</style>\n",
       "<table border=\"1\" class=\"dataframe\">\n",
       "  <thead>\n",
       "    <tr style=\"text-align: right;\">\n",
       "      <th></th>\n",
       "      <th>C</th>\n",
       "      <th>RSS</th>\n",
       "      <th>R_squared</th>\n",
       "    </tr>\n",
       "  </thead>\n",
       "  <tbody>\n",
       "    <tr>\n",
       "      <th>0</th>\n",
       "      <td>0.001</td>\n",
       "      <td>1662.922748</td>\n",
       "      <td>0.706982</td>\n",
       "    </tr>\n",
       "    <tr>\n",
       "      <th>1</th>\n",
       "      <td>0.010</td>\n",
       "      <td>1662.798965</td>\n",
       "      <td>0.707001</td>\n",
       "    </tr>\n",
       "    <tr>\n",
       "      <th>2</th>\n",
       "      <td>0.100</td>\n",
       "      <td>1662.427963</td>\n",
       "      <td>0.707042</td>\n",
       "    </tr>\n",
       "    <tr>\n",
       "      <th>3</th>\n",
       "      <td>1.000</td>\n",
       "      <td>1676.051732</td>\n",
       "      <td>0.704577</td>\n",
       "    </tr>\n",
       "    <tr>\n",
       "      <th>4</th>\n",
       "      <td>2.000</td>\n",
       "      <td>1686.129186</td>\n",
       "      <td>0.702810</td>\n",
       "    </tr>\n",
       "    <tr>\n",
       "      <th>5</th>\n",
       "      <td>3.000</td>\n",
       "      <td>1691.443090</td>\n",
       "      <td>0.701897</td>\n",
       "    </tr>\n",
       "    <tr>\n",
       "      <th>6</th>\n",
       "      <td>4.000</td>\n",
       "      <td>1694.536045</td>\n",
       "      <td>0.701379</td>\n",
       "    </tr>\n",
       "    <tr>\n",
       "      <th>7</th>\n",
       "      <td>10.000</td>\n",
       "      <td>1700.566148</td>\n",
       "      <td>0.700493</td>\n",
       "    </tr>\n",
       "    <tr>\n",
       "      <th>8</th>\n",
       "      <td>100.000</td>\n",
       "      <td>1752.927250</td>\n",
       "      <td>0.692461</td>\n",
       "    </tr>\n",
       "  </tbody>\n",
       "</table>\n",
       "</div>"
      ],
      "text/plain": [
       "         C          RSS  R_squared\n",
       "0    0.001  1662.922748   0.706982\n",
       "1    0.010  1662.798965   0.707001\n",
       "2    0.100  1662.427963   0.707042\n",
       "3    1.000  1676.051732   0.704577\n",
       "4    2.000  1686.129186   0.702810\n",
       "5    3.000  1691.443090   0.701897\n",
       "6    4.000  1694.536045   0.701379\n",
       "7   10.000  1700.566148   0.700493\n",
       "8  100.000  1752.927250   0.692461"
      ]
     },
     "execution_count": 25,
     "metadata": {},
     "output_type": "execute_result"
    }
   ],
   "source": [
    "df"
   ]
  },
  {
   "cell_type": "code",
   "execution_count": 205,
   "metadata": {},
   "outputs": [
    {
     "data": {
      "text/html": [
       "<div>\n",
       "<style scoped>\n",
       "    .dataframe tbody tr th:only-of-type {\n",
       "        vertical-align: middle;\n",
       "    }\n",
       "\n",
       "    .dataframe tbody tr th {\n",
       "        vertical-align: top;\n",
       "    }\n",
       "\n",
       "    .dataframe thead th {\n",
       "        text-align: right;\n",
       "    }\n",
       "</style>\n",
       "<table border=\"1\" class=\"dataframe\">\n",
       "  <thead>\n",
       "    <tr style=\"text-align: right;\">\n",
       "      <th></th>\n",
       "      <th>C</th>\n",
       "      <th>RSS</th>\n",
       "      <th>R_squared</th>\n",
       "    </tr>\n",
       "  </thead>\n",
       "  <tbody>\n",
       "    <tr>\n",
       "      <th>2</th>\n",
       "      <td>0.1</td>\n",
       "      <td>1662.427963</td>\n",
       "      <td>0.707042</td>\n",
       "    </tr>\n",
       "  </tbody>\n",
       "</table>\n",
       "</div>"
      ],
      "text/plain": [
       "     C          RSS  R_squared\n",
       "2  0.1  1662.427963   0.707042"
      ]
     },
     "execution_count": 205,
     "metadata": {},
     "output_type": "execute_result"
    }
   ],
   "source": [
    "df[df.RSS == min(df.RSS)]"
   ]
  },
  {
   "cell_type": "code",
   "execution_count": 208,
   "metadata": {},
   "outputs": [
    {
     "data": {
      "text/plain": [
       "0.7181578088398777"
      ]
     },
     "execution_count": 208,
     "metadata": {},
     "output_type": "execute_result"
    }
   ],
   "source": [
    "model = Ridge(alpha=0.1,fit_intercept=True, normalize=False)\n",
    "model.fit(X_train, y_train)\n",
    "model.score(X_test,y_test)"
   ]
  },
  {
   "cell_type": "code",
   "execution_count": 211,
   "metadata": {},
   "outputs": [
    {
     "data": {
      "text/plain": [
       "38.32995124632765"
      ]
     },
     "execution_count": 211,
     "metadata": {},
     "output_type": "execute_result"
    }
   ],
   "source": [
    "model.intercept_"
   ]
  },
  {
   "cell_type": "code",
   "execution_count": 209,
   "metadata": {},
   "outputs": [
    {
     "data": {
      "text/plain": [
       "array([-1.12417348e-01,  6.40352034e-02,  1.88755809e-02,  1.47103397e+00,\n",
       "       -1.54660207e+01,  3.36485169e+00, -6.58189875e-03, -1.61813600e+00,\n",
       "        2.94848752e-01, -1.38844361e-02, -8.25733936e-01,  6.38936471e-03,\n",
       "       -5.24396070e-01])"
      ]
     },
     "execution_count": 209,
     "metadata": {},
     "output_type": "execute_result"
    }
   ],
   "source": [
    "model.coef_"
   ]
  },
  {
   "cell_type": "markdown",
   "metadata": {},
   "source": [
    "### Apply lasso regression"
   ]
  },
  {
   "cell_type": "code",
   "execution_count": 213,
   "metadata": {
    "collapsed": true
   },
   "outputs": [],
   "source": [
    "def fit_lasso_reg(X,y,C):\n",
    "    #Fit ridge regression model and return RSS and R squared values\n",
    "    rss_list, r_squared_list = [],[]\n",
    "    for i in range(5):\n",
    "        test_index = np.arange(i*size,(i+1)*size)\n",
    "        train_index = [x for x in np.arange(0,350) if x not in test_index]\n",
    "        x_tr = X.iloc[train_index]\n",
    "        x_te = X.iloc[test_index]\n",
    "        y_tr = y.iloc[train_index]\n",
    "        y_te = y.iloc[test_index]\n",
    "        model = Lasso(alpha=C,fit_intercept=True, normalize=False)\n",
    "        model.fit(x_tr, y_tr)\n",
    "        rss_list.append(mean_squared_error(y_te,model.predict(x_te)) * size)\n",
    "        r_squared_list.append(model.score(x_te,y_te)) \n",
    "    return np.mean(rss_list),np.mean(r_squared_list)"
   ]
  },
  {
   "cell_type": "code",
   "execution_count": 214,
   "metadata": {},
   "outputs": [
    {
     "name": "stderr",
     "output_type": "stream",
     "text": [
      "100%|██████████| 4/4 [00:00<00:00, 24.08it/s]\n"
     ]
    }
   ],
   "source": [
    "RSS_list, R_squared_list, C_list = [],[],[]\n",
    "#Looping over alphas=[1e-3, 1e-2, 1e-1, 1]\n",
    "alphas=[1e-3, 1e-2, 1e-1, 1]\n",
    "for i in tqdm(range(len(alphas))):\n",
    "    C = alphas[i]\n",
    "    tmp_result = fit_lasso_reg(X_train,y_train,C)   #Store temp result \n",
    "    RSS_list.append(tmp_result[0])                  #Append lists\n",
    "    R_squared_list.append(tmp_result[1])\n",
    "    C_list.append(C) \n",
    "\n",
    "#Store in DataFrame\n",
    "df = pd.DataFrame({'C': C_list,'RSS': RSS_list, 'R_squared':R_squared_list})"
   ]
  },
  {
   "cell_type": "code",
   "execution_count": 217,
   "metadata": {},
   "outputs": [
    {
     "data": {
      "text/html": [
       "<div>\n",
       "<style scoped>\n",
       "    .dataframe tbody tr th:only-of-type {\n",
       "        vertical-align: middle;\n",
       "    }\n",
       "\n",
       "    .dataframe tbody tr th {\n",
       "        vertical-align: top;\n",
       "    }\n",
       "\n",
       "    .dataframe thead th {\n",
       "        text-align: right;\n",
       "    }\n",
       "</style>\n",
       "<table border=\"1\" class=\"dataframe\">\n",
       "  <thead>\n",
       "    <tr style=\"text-align: right;\">\n",
       "      <th></th>\n",
       "      <th>C</th>\n",
       "      <th>RSS</th>\n",
       "      <th>R_squared</th>\n",
       "    </tr>\n",
       "  </thead>\n",
       "  <tbody>\n",
       "    <tr>\n",
       "      <th>0</th>\n",
       "      <td>0.001</td>\n",
       "      <td>1663.102638</td>\n",
       "      <td>0.706945</td>\n",
       "    </tr>\n",
       "  </tbody>\n",
       "</table>\n",
       "</div>"
      ],
      "text/plain": [
       "       C          RSS  R_squared\n",
       "0  0.001  1663.102638   0.706945"
      ]
     },
     "execution_count": 217,
     "metadata": {},
     "output_type": "execute_result"
    }
   ],
   "source": [
    "df[df.RSS == min(df.RSS)]"
   ]
  },
  {
   "cell_type": "code",
   "execution_count": 219,
   "metadata": {},
   "outputs": [
    {
     "data": {
      "text/plain": [
       "0.7183631397822813"
      ]
     },
     "execution_count": 219,
     "metadata": {},
     "output_type": "execute_result"
    }
   ],
   "source": [
    "model = Lasso(alpha=0.001,fit_intercept=True, normalize=False)\n",
    "model.fit(X_train, y_train)\n",
    "model.score(X_test,y_test)"
   ]
  },
  {
   "cell_type": "code",
   "execution_count": 220,
   "metadata": {},
   "outputs": [
    {
     "name": "stdout",
     "output_type": "stream",
     "text": [
      "[-1.07633153e-01  6.55659731e-02 -7.74108429e-03  1.37940315e+00\n",
      " -8.46025746e+00  3.37750503e+00 -1.18475496e-02 -1.50930496e+00\n",
      "  2.75814143e-01 -1.43614837e-02 -7.52768028e-01  6.72211300e-03\n",
      " -5.38298821e-01]\n",
      "33.683198219160374\n"
     ]
    }
   ],
   "source": [
    "print(clf.coef_)\n",
    "print(clf.intercept_)"
   ]
  },
  {
   "cell_type": "code",
   "execution_count": null,
   "metadata": {
    "collapsed": true
   },
   "outputs": [],
   "source": []
  },
  {
   "cell_type": "markdown",
   "metadata": {},
   "source": [
    "Ref:\n",
    "1. [full subset-search](https://xavierbourretsicotte.github.io/subset_selection.html)\n",
    "2. [Check assumptions](https://towardsdatascience.com/verifying-the-assumptions-of-linear-regression-in-python-and-r-f4cd2907d4c0)\n"
   ]
  }
 ],
 "metadata": {
  "kernelspec": {
   "display_name": "Python [conda env:p36]",
   "language": "python",
   "name": "conda-env-p36-py"
  },
  "language_info": {
   "codemirror_mode": {
    "name": "ipython",
    "version": 3
   },
   "file_extension": ".py",
   "mimetype": "text/x-python",
   "name": "python",
   "nbconvert_exporter": "python",
   "pygments_lexer": "ipython3",
   "version": "3.6.8"
  }
 },
 "nbformat": 4,
 "nbformat_minor": 2
}
