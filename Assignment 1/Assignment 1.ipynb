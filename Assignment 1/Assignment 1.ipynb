{
 "cells": [
  {
   "cell_type": "code",
   "execution_count": 212,
   "metadata": {
    "collapsed": true
   },
   "outputs": [],
   "source": [
    "import numpy as np\n",
    "import pandas as pd\n",
    "import itertools\n",
    "\n",
    "from sklearn import model_selection\n",
    "from sklearn.linear_model import LinearRegression\n",
    "from sklearn.metrics import mean_squared_error\n",
    "from sklearn.linear_model import Ridge,Lasso\n",
    "\n",
    "import statsmodels.api as sm\n",
    "from scipy import stats\n",
    "\n",
    "from tqdm import tqdm #Importing tqdm for the progress bar"
   ]
  },
  {
   "cell_type": "markdown",
   "metadata": {},
   "source": [
    "Ref:\n",
    "1. [full subset-search](https://xavierbourretsicotte.github.io/subset_selection.html)\n"
   ]
  },
  {
   "cell_type": "markdown",
   "metadata": {},
   "source": [
    "## Introductory analyses"
   ]
  },
  {
   "cell_type": "code",
   "execution_count": 4,
   "metadata": {},
   "outputs": [],
   "source": [
    "data = pd.read_csv('../data/housing-p.data.txt',sep=' ',header=0)"
   ]
  },
  {
   "cell_type": "code",
   "execution_count": 5,
   "metadata": {},
   "outputs": [],
   "source": [
    "X = data.iloc[:,0:-1]\n",
    "y = data.iloc[:,-1]"
   ]
  },
  {
   "cell_type": "code",
   "execution_count": 6,
   "metadata": {},
   "outputs": [],
   "source": [
    "X_train, X_test, y_train, y_test = model_selection.train_test_split(X,y,test_size=156,shuffle=False)"
   ]
  },
  {
   "cell_type": "code",
   "execution_count": 8,
   "metadata": {},
   "outputs": [
    {
     "data": {
      "text/html": [
       "<div>\n",
       "<style scoped>\n",
       "    .dataframe tbody tr th:only-of-type {\n",
       "        vertical-align: middle;\n",
       "    }\n",
       "\n",
       "    .dataframe tbody tr th {\n",
       "        vertical-align: top;\n",
       "    }\n",
       "\n",
       "    .dataframe thead th {\n",
       "        text-align: right;\n",
       "    }\n",
       "</style>\n",
       "<table border=\"1\" class=\"dataframe\">\n",
       "  <thead>\n",
       "    <tr style=\"text-align: right;\">\n",
       "      <th></th>\n",
       "      <th>CRIM</th>\n",
       "      <th>ZN</th>\n",
       "      <th>INDUS</th>\n",
       "      <th>CHAS</th>\n",
       "      <th>NOX</th>\n",
       "      <th>RM</th>\n",
       "      <th>AGE</th>\n",
       "      <th>DIS</th>\n",
       "      <th>RAD</th>\n",
       "      <th>TAX</th>\n",
       "      <th>PTRATIO</th>\n",
       "      <th>B</th>\n",
       "      <th>LSTAT</th>\n",
       "    </tr>\n",
       "  </thead>\n",
       "  <tbody>\n",
       "    <tr>\n",
       "      <th>0</th>\n",
       "      <td>0.01301</td>\n",
       "      <td>35.0</td>\n",
       "      <td>1.52</td>\n",
       "      <td>0</td>\n",
       "      <td>0.442</td>\n",
       "      <td>7.241</td>\n",
       "      <td>49.3</td>\n",
       "      <td>7.0379</td>\n",
       "      <td>1</td>\n",
       "      <td>284</td>\n",
       "      <td>15.5</td>\n",
       "      <td>394.74</td>\n",
       "      <td>5.49</td>\n",
       "    </tr>\n",
       "    <tr>\n",
       "      <th>1</th>\n",
       "      <td>9.39063</td>\n",
       "      <td>0.0</td>\n",
       "      <td>18.10</td>\n",
       "      <td>0</td>\n",
       "      <td>0.740</td>\n",
       "      <td>5.627</td>\n",
       "      <td>93.9</td>\n",
       "      <td>1.8172</td>\n",
       "      <td>24</td>\n",
       "      <td>666</td>\n",
       "      <td>20.2</td>\n",
       "      <td>396.90</td>\n",
       "      <td>22.88</td>\n",
       "    </tr>\n",
       "    <tr>\n",
       "      <th>2</th>\n",
       "      <td>0.54011</td>\n",
       "      <td>20.0</td>\n",
       "      <td>3.97</td>\n",
       "      <td>0</td>\n",
       "      <td>0.647</td>\n",
       "      <td>7.203</td>\n",
       "      <td>81.8</td>\n",
       "      <td>2.1121</td>\n",
       "      <td>5</td>\n",
       "      <td>264</td>\n",
       "      <td>13.0</td>\n",
       "      <td>392.80</td>\n",
       "      <td>9.59</td>\n",
       "    </tr>\n",
       "    <tr>\n",
       "      <th>3</th>\n",
       "      <td>0.20746</td>\n",
       "      <td>0.0</td>\n",
       "      <td>27.74</td>\n",
       "      <td>0</td>\n",
       "      <td>0.609</td>\n",
       "      <td>5.093</td>\n",
       "      <td>98.0</td>\n",
       "      <td>1.8226</td>\n",
       "      <td>4</td>\n",
       "      <td>711</td>\n",
       "      <td>20.1</td>\n",
       "      <td>318.43</td>\n",
       "      <td>29.68</td>\n",
       "    </tr>\n",
       "    <tr>\n",
       "      <th>4</th>\n",
       "      <td>0.02731</td>\n",
       "      <td>0.0</td>\n",
       "      <td>7.07</td>\n",
       "      <td>0</td>\n",
       "      <td>0.469</td>\n",
       "      <td>6.421</td>\n",
       "      <td>78.9</td>\n",
       "      <td>4.9671</td>\n",
       "      <td>2</td>\n",
       "      <td>242</td>\n",
       "      <td>17.8</td>\n",
       "      <td>396.90</td>\n",
       "      <td>9.14</td>\n",
       "    </tr>\n",
       "  </tbody>\n",
       "</table>\n",
       "</div>"
      ],
      "text/plain": [
       "      CRIM    ZN  INDUS  CHAS    NOX     RM   AGE     DIS  RAD  TAX  PTRATIO  \\\n",
       "0  0.01301  35.0   1.52     0  0.442  7.241  49.3  7.0379    1  284     15.5   \n",
       "1  9.39063   0.0  18.10     0  0.740  5.627  93.9  1.8172   24  666     20.2   \n",
       "2  0.54011  20.0   3.97     0  0.647  7.203  81.8  2.1121    5  264     13.0   \n",
       "3  0.20746   0.0  27.74     0  0.609  5.093  98.0  1.8226    4  711     20.1   \n",
       "4  0.02731   0.0   7.07     0  0.469  6.421  78.9  4.9671    2  242     17.8   \n",
       "\n",
       "        B  LSTAT  \n",
       "0  394.74   5.49  \n",
       "1  396.90  22.88  \n",
       "2  392.80   9.59  \n",
       "3  318.43  29.68  \n",
       "4  396.90   9.14  "
      ]
     },
     "execution_count": 8,
     "metadata": {},
     "output_type": "execute_result"
    }
   ],
   "source": [
    "X_train.head()"
   ]
  },
  {
   "cell_type": "code",
   "execution_count": 60,
   "metadata": {
    "collapsed": true
   },
   "outputs": [],
   "source": [
    "X_test = sm.add_constant(X_test)"
   ]
  },
  {
   "cell_type": "code",
   "execution_count": 12,
   "metadata": {},
   "outputs": [
    {
     "name": "stdout",
     "output_type": "stream",
     "text": [
      "                            OLS Regression Results                            \n",
      "==============================================================================\n",
      "Dep. Variable:                   MEDV   R-squared:                       0.745\n",
      "Model:                            OLS   Adj. R-squared:                  0.735\n",
      "Method:                 Least Squares   F-statistic:                     75.43\n",
      "Date:                Fri, 08 Nov 2019   Prob (F-statistic):           3.03e-91\n",
      "Time:                        16:48:01   Log-Likelihood:                -1029.2\n",
      "No. Observations:                 350   AIC:                             2086.\n",
      "Df Residuals:                     336   BIC:                             2140.\n",
      "Df Model:                          13                                         \n",
      "Covariance Type:            nonrobust                                         \n",
      "==============================================================================\n",
      "                 coef    std err          t      P>|t|      [0.025      0.975]\n",
      "------------------------------------------------------------------------------\n",
      "const         39.4003      6.174      6.381      0.000      27.255      51.546\n",
      "CRIM          -0.1135      0.042     -2.717      0.007      -0.196      -0.031\n",
      "ZN             0.0637      0.016      3.889      0.000       0.031       0.096\n",
      "INDUS          0.0248      0.074      0.337      0.736      -0.120       0.170\n",
      "CHAS           1.4861      0.998      1.489      0.137      -0.477       3.449\n",
      "NOX          -17.0320      4.701     -3.623      0.000     -26.279      -7.785\n",
      "RM             3.3580      0.522      6.428      0.000       2.330       4.386\n",
      "AGE           -0.0054      0.016     -0.344      0.731      -0.036       0.025\n",
      "DIS           -1.6425      0.239     -6.873      0.000      -2.113      -1.172\n",
      "RAD            0.2993      0.075      3.969      0.000       0.151       0.448\n",
      "TAX           -0.0138      0.004     -3.192      0.002      -0.022      -0.005\n",
      "PTRATIO       -0.8422      0.154     -5.479      0.000      -1.145      -0.540\n",
      "B              0.0063      0.003      1.987      0.048    6.42e-05       0.013\n",
      "LSTAT         -0.5216      0.061     -8.596      0.000      -0.641      -0.402\n",
      "==============================================================================\n",
      "Omnibus:                      151.303   Durbin-Watson:                   2.011\n",
      "Prob(Omnibus):                  0.000   Jarque-Bera (JB):              778.319\n",
      "Skew:                           1.778   Prob(JB):                    9.78e-170\n",
      "Kurtosis:                       9.382   Cond. No.                     1.56e+04\n",
      "==============================================================================\n",
      "\n",
      "Warnings:\n",
      "[1] Standard Errors assume that the covariance matrix of the errors is correctly specified.\n",
      "[2] The condition number is large, 1.56e+04. This might indicate that there are\n",
      "strong multicollinearity or other numerical problems.\n"
     ]
    },
    {
     "name": "stderr",
     "output_type": "stream",
     "text": [
      "/Users/jeremydai/anaconda/envs/p36/lib/python3.6/site-packages/numpy/core/fromnumeric.py:2389: FutureWarning: Method .ptp is deprecated and will be removed in a future version. Use numpy.ptp instead.\n",
      "  return ptp(axis=axis, out=out, **kwargs)\n"
     ]
    }
   ],
   "source": [
    "X_train = sm.add_constant(X_train)\n",
    "est = sm.OLS(y_train, X_train)\n",
    "est2 = est.fit()\n",
    "print(est2.summary())"
   ]
  },
  {
   "cell_type": "markdown",
   "metadata": {},
   "source": [
    "## Report estimated coefficients, their standard errors, and statistical significance "
   ]
  },
  {
   "cell_type": "markdown",
   "metadata": {},
   "source": [
    "## Cross-validation and regularization"
   ]
  },
  {
   "cell_type": "code",
   "execution_count": 99,
   "metadata": {
    "collapsed": true
   },
   "outputs": [],
   "source": [
    "del X_train['const'] "
   ]
  },
  {
   "cell_type": "code",
   "execution_count": 189,
   "metadata": {
    "collapsed": true
   },
   "outputs": [],
   "source": [
    "del X_test['const'] "
   ]
  },
  {
   "cell_type": "code",
   "execution_count": 100,
   "metadata": {
    "collapsed": true
   },
   "outputs": [],
   "source": [
    "size = int(len(y_train)/5)"
   ]
  },
  {
   "cell_type": "code",
   "execution_count": 156,
   "metadata": {},
   "outputs": [],
   "source": [
    "RSS_list, R_squared_list = [],[]\n",
    "for i in range(5):\n",
    "    test_index = np.arange(i*size,(i+1)*size)\n",
    "    train_index = [x for x in np.arange(0,350) if x not in test_index]\n",
    "    x_tr = X_train.iloc[train_index]\n",
    "    x_te = X_train.iloc[test_index]\n",
    "    y_tr = y_train.iloc[train_index]\n",
    "    y_te = y_train.iloc[test_index]\n",
    "    model = LinearRegression()\n",
    "    model.fit(x_tr, y_tr)\n",
    "    RSS_list.append(mean_squared_error(y_te,model.predict(x_te)) * size)\n",
    "    R_squared_list.append(model.score(x_te,y_te)) "
   ]
  },
  {
   "cell_type": "code",
   "execution_count": 158,
   "metadata": {},
   "outputs": [
    {
     "data": {
      "text/plain": [
       "([1827.6501497550853,\n",
       "  1169.2532911104697,\n",
       "  2524.6743776378926,\n",
       "  1388.4699273684323,\n",
       "  1404.6408627703004],\n",
       " [0.7225827346061061,\n",
       "  0.7905611510389149,\n",
       "  0.5381108326374417,\n",
       "  0.7058821013155587,\n",
       "  0.777761071116262])"
      ]
     },
     "execution_count": 158,
     "metadata": {},
     "output_type": "execute_result"
    }
   ],
   "source": [
    "RSS_list,R_squared_list"
   ]
  },
  {
   "cell_type": "code",
   "execution_count": 161,
   "metadata": {},
   "outputs": [
    {
     "data": {
      "text/plain": [
       "(1662.937721728436, 0.7069795781428567)"
      ]
     },
     "execution_count": 161,
     "metadata": {},
     "output_type": "execute_result"
    }
   ],
   "source": [
    "np.mean(RSS_list),np.mean(R_squared_list)"
   ]
  },
  {
   "cell_type": "markdown",
   "metadata": {},
   "source": [
    "### Perform full subset-search"
   ]
  },
  {
   "cell_type": "code",
   "execution_count": 162,
   "metadata": {},
   "outputs": [],
   "source": [
    "def fit_linear_reg(X,y):\n",
    "    #Fit linear regression model and return RSS and R squared values\n",
    "    rss_list, r_squared_list = [],[]\n",
    "    for i in range(5):\n",
    "        test_index = np.arange(i*size,(i+1)*size)\n",
    "        train_index = [x for x in np.arange(0,350) if x not in test_index]\n",
    "        x_tr = X.iloc[train_index]\n",
    "        x_te = X.iloc[test_index]\n",
    "        y_tr = y.iloc[train_index]\n",
    "        y_te = y.iloc[test_index]\n",
    "        model = LinearRegression()\n",
    "        model.fit(x_tr, y_tr)\n",
    "        rss_list.append(mean_squared_error(y_te,model.predict(x_te)) * size)\n",
    "        r_squared_list.append(model.score(x_te,y_te)) \n",
    "    return np.mean(rss_list),np.mean(r_squared_list)"
   ]
  },
  {
   "cell_type": "code",
   "execution_count": 163,
   "metadata": {},
   "outputs": [],
   "source": [
    "#Initialization variables\n",
    "K = len(X_train.columns)\n",
    "RSS_list, R_squared_list, feature_list = [],[],[]\n",
    "numb_features = []"
   ]
  },
  {
   "cell_type": "code",
   "execution_count": 164,
   "metadata": {},
   "outputs": [
    {
     "name": "stderr",
     "output_type": "stream",
     "text": [
      "100%|██████████| 13/13 [04:42<00:00, 21.70s/it]\n"
     ]
    }
   ],
   "source": [
    "#Looping over k = 1 to K features in X_train\n",
    "for k in tqdm(range(K)):\n",
    "    #Looping over all possible combinations: from 11 choose k\n",
    "    for combo in itertools.combinations(X_train.columns,k+1):\n",
    "        tmp_result = fit_linear_reg(X_train[list(combo)],y_train)   #Store temp result \n",
    "        RSS_list.append(tmp_result[0])                  #Append lists\n",
    "        R_squared_list.append(tmp_result[1])\n",
    "        feature_list.append(combo)\n",
    "        numb_features.append(len(combo))   \n",
    "\n",
    "#Store in DataFrame\n",
    "df = pd.DataFrame({'numb_features': numb_features,'RSS': RSS_list, 'R_squared':R_squared_list,'features':feature_list})"
   ]
  },
  {
   "cell_type": "code",
   "execution_count": 165,
   "metadata": {},
   "outputs": [
    {
     "data": {
      "text/plain": [
       "numb_features\n",
       "1       13\n",
       "2       78\n",
       "3      286\n",
       "4      715\n",
       "5     1287\n",
       "6     1716\n",
       "7     1716\n",
       "8     1287\n",
       "9      715\n",
       "10     286\n",
       "11      78\n",
       "12      13\n",
       "13       1\n",
       "dtype: int64"
      ]
     },
     "execution_count": 165,
     "metadata": {},
     "output_type": "execute_result"
    }
   ],
   "source": [
    "df.groupby('numb_features').apply(len)"
   ]
  },
  {
   "cell_type": "code",
   "execution_count": 166,
   "metadata": {},
   "outputs": [
    {
     "data": {
      "text/html": [
       "<div>\n",
       "<style scoped>\n",
       "    .dataframe tbody tr th:only-of-type {\n",
       "        vertical-align: middle;\n",
       "    }\n",
       "\n",
       "    .dataframe tbody tr th {\n",
       "        vertical-align: top;\n",
       "    }\n",
       "\n",
       "    .dataframe thead th {\n",
       "        text-align: right;\n",
       "    }\n",
       "</style>\n",
       "<table border=\"1\" class=\"dataframe\">\n",
       "  <thead>\n",
       "    <tr style=\"text-align: right;\">\n",
       "      <th></th>\n",
       "      <th>numb_features</th>\n",
       "      <th>RSS</th>\n",
       "      <th>R_squared</th>\n",
       "      <th>features</th>\n",
       "    </tr>\n",
       "  </thead>\n",
       "  <tbody>\n",
       "    <tr>\n",
       "      <th>12</th>\n",
       "      <td>1</td>\n",
       "      <td>2554.516940</td>\n",
       "      <td>0.555532</td>\n",
       "      <td>(LSTAT,)</td>\n",
       "    </tr>\n",
       "    <tr>\n",
       "      <th>69</th>\n",
       "      <td>2</td>\n",
       "      <td>2138.124258</td>\n",
       "      <td>0.625233</td>\n",
       "      <td>(RM, LSTAT)</td>\n",
       "    </tr>\n",
       "    <tr>\n",
       "      <th>340</th>\n",
       "      <td>3</td>\n",
       "      <td>1922.073981</td>\n",
       "      <td>0.659838</td>\n",
       "      <td>(RM, PTRATIO, LSTAT)</td>\n",
       "    </tr>\n",
       "  </tbody>\n",
       "</table>\n",
       "</div>"
      ],
      "text/plain": [
       "     numb_features          RSS  R_squared              features\n",
       "12               1  2554.516940   0.555532              (LSTAT,)\n",
       "69               2  2138.124258   0.625233           (RM, LSTAT)\n",
       "340              3  1922.073981   0.659838  (RM, PTRATIO, LSTAT)"
      ]
     },
     "metadata": {},
     "output_type": "display_data"
    },
    {
     "data": {
      "text/html": [
       "<div>\n",
       "<style scoped>\n",
       "    .dataframe tbody tr th:only-of-type {\n",
       "        vertical-align: middle;\n",
       "    }\n",
       "\n",
       "    .dataframe tbody tr th {\n",
       "        vertical-align: top;\n",
       "    }\n",
       "\n",
       "    .dataframe thead th {\n",
       "        text-align: right;\n",
       "    }\n",
       "</style>\n",
       "<table border=\"1\" class=\"dataframe\">\n",
       "  <thead>\n",
       "    <tr style=\"text-align: right;\">\n",
       "      <th></th>\n",
       "      <th>numb_features</th>\n",
       "      <th>RSS</th>\n",
       "      <th>R_squared</th>\n",
       "      <th>features</th>\n",
       "    </tr>\n",
       "  </thead>\n",
       "  <tbody>\n",
       "    <tr>\n",
       "      <th>12</th>\n",
       "      <td>1</td>\n",
       "      <td>2554.516940</td>\n",
       "      <td>0.555532</td>\n",
       "      <td>(LSTAT,)</td>\n",
       "    </tr>\n",
       "    <tr>\n",
       "      <th>69</th>\n",
       "      <td>2</td>\n",
       "      <td>2138.124258</td>\n",
       "      <td>0.625233</td>\n",
       "      <td>(RM, LSTAT)</td>\n",
       "    </tr>\n",
       "    <tr>\n",
       "      <th>340</th>\n",
       "      <td>3</td>\n",
       "      <td>1922.073981</td>\n",
       "      <td>0.659838</td>\n",
       "      <td>(RM, PTRATIO, LSTAT)</td>\n",
       "    </tr>\n",
       "  </tbody>\n",
       "</table>\n",
       "</div>"
      ],
      "text/plain": [
       "     numb_features          RSS  R_squared              features\n",
       "12               1  2554.516940   0.555532              (LSTAT,)\n",
       "69               2  2138.124258   0.625233           (RM, LSTAT)\n",
       "340              3  1922.073981   0.659838  (RM, PTRATIO, LSTAT)"
      ]
     },
     "metadata": {},
     "output_type": "display_data"
    }
   ],
   "source": [
    "df_min = df[df['RSS'] == df.groupby('numb_features')['RSS'].transform(min)]\n",
    "df_max = df[df['R_squared'] == df.groupby('numb_features')['R_squared'].transform(max)]\n",
    "display(df_min.head(3))\n",
    "display(df_max.head(3))"
   ]
  },
  {
   "cell_type": "markdown",
   "metadata": {},
   "source": [
    "### Apply ridge regression"
   ]
  },
  {
   "cell_type": "code",
   "execution_count": 201,
   "metadata": {
    "collapsed": true
   },
   "outputs": [],
   "source": [
    "def fit_ridge_reg(X,y,C):\n",
    "    #Fit ridge regression model and return RSS and R squared values\n",
    "    rss_list, r_squared_list = [],[]\n",
    "    for i in range(5):\n",
    "        test_index = np.arange(i*size,(i+1)*size)\n",
    "        train_index = [x for x in np.arange(0,350) if x not in test_index]\n",
    "        x_tr = X.iloc[train_index]\n",
    "        x_te = X.iloc[test_index]\n",
    "        y_tr = y.iloc[train_index]\n",
    "        y_te = y.iloc[test_index]\n",
    "        model = Ridge(alpha=C,fit_intercept=True, normalize=False)\n",
    "        model.fit(x_tr, y_tr)\n",
    "        rss_list.append(mean_squared_error(y_te,model.predict(x_te)) * size)\n",
    "        r_squared_list.append(model.score(x_te,y_te)) \n",
    "    return np.mean(rss_list),np.mean(r_squared_list)"
   ]
  },
  {
   "cell_type": "code",
   "execution_count": 202,
   "metadata": {},
   "outputs": [
    {
     "name": "stderr",
     "output_type": "stream",
     "text": [
      "100%|██████████| 4/4 [00:00<00:00, 26.97it/s]\n"
     ]
    }
   ],
   "source": [
    "RSS_list, R_squared_list, C_list = [],[],[]\n",
    "#Looping over alphas=[1e-3, 1e-2, 1e-1, 1]\n",
    "alphas=[1e-3, 1e-2, 1e-1, 1]\n",
    "for i in tqdm(range(len(alphas))):\n",
    "    C = alphas[i]\n",
    "    tmp_result = fit_ridge_reg(X_train,y_train,C)   #Store temp result \n",
    "    RSS_list.append(tmp_result[0])                  #Append lists\n",
    "    R_squared_list.append(tmp_result[1])\n",
    "    C_list.append(C) \n",
    "\n",
    "#Store in DataFrame\n",
    "df = pd.DataFrame({'C': C_list,'RSS': RSS_list, 'R_squared':R_squared_list})"
   ]
  },
  {
   "cell_type": "code",
   "execution_count": 205,
   "metadata": {},
   "outputs": [
    {
     "data": {
      "text/html": [
       "<div>\n",
       "<style scoped>\n",
       "    .dataframe tbody tr th:only-of-type {\n",
       "        vertical-align: middle;\n",
       "    }\n",
       "\n",
       "    .dataframe tbody tr th {\n",
       "        vertical-align: top;\n",
       "    }\n",
       "\n",
       "    .dataframe thead th {\n",
       "        text-align: right;\n",
       "    }\n",
       "</style>\n",
       "<table border=\"1\" class=\"dataframe\">\n",
       "  <thead>\n",
       "    <tr style=\"text-align: right;\">\n",
       "      <th></th>\n",
       "      <th>C</th>\n",
       "      <th>RSS</th>\n",
       "      <th>R_squared</th>\n",
       "    </tr>\n",
       "  </thead>\n",
       "  <tbody>\n",
       "    <tr>\n",
       "      <th>2</th>\n",
       "      <td>0.1</td>\n",
       "      <td>1662.427963</td>\n",
       "      <td>0.707042</td>\n",
       "    </tr>\n",
       "  </tbody>\n",
       "</table>\n",
       "</div>"
      ],
      "text/plain": [
       "     C          RSS  R_squared\n",
       "2  0.1  1662.427963   0.707042"
      ]
     },
     "execution_count": 205,
     "metadata": {},
     "output_type": "execute_result"
    }
   ],
   "source": [
    "df[df.RSS == min(df.RSS)]"
   ]
  },
  {
   "cell_type": "code",
   "execution_count": 208,
   "metadata": {},
   "outputs": [
    {
     "data": {
      "text/plain": [
       "0.7181578088398777"
      ]
     },
     "execution_count": 208,
     "metadata": {},
     "output_type": "execute_result"
    }
   ],
   "source": [
    "model = Ridge(alpha=0.1,fit_intercept=True, normalize=False)\n",
    "model.fit(X_train, y_train)\n",
    "model.score(X_test,y_test)"
   ]
  },
  {
   "cell_type": "code",
   "execution_count": 211,
   "metadata": {},
   "outputs": [
    {
     "data": {
      "text/plain": [
       "38.32995124632765"
      ]
     },
     "execution_count": 211,
     "metadata": {},
     "output_type": "execute_result"
    }
   ],
   "source": [
    "model.intercept_"
   ]
  },
  {
   "cell_type": "code",
   "execution_count": 209,
   "metadata": {},
   "outputs": [
    {
     "data": {
      "text/plain": [
       "array([-1.12417348e-01,  6.40352034e-02,  1.88755809e-02,  1.47103397e+00,\n",
       "       -1.54660207e+01,  3.36485169e+00, -6.58189875e-03, -1.61813600e+00,\n",
       "        2.94848752e-01, -1.38844361e-02, -8.25733936e-01,  6.38936471e-03,\n",
       "       -5.24396070e-01])"
      ]
     },
     "execution_count": 209,
     "metadata": {},
     "output_type": "execute_result"
    }
   ],
   "source": [
    "model.coef_"
   ]
  },
  {
   "cell_type": "markdown",
   "metadata": {},
   "source": [
    "### Apply lasso regression"
   ]
  },
  {
   "cell_type": "code",
   "execution_count": 213,
   "metadata": {},
   "outputs": [],
   "source": [
    "def fit_lasso_reg(X,y,C):\n",
    "    #Fit ridge regression model and return RSS and R squared values\n",
    "    rss_list, r_squared_list = [],[]\n",
    "    for i in range(5):\n",
    "        test_index = np.arange(i*size,(i+1)*size)\n",
    "        train_index = [x for x in np.arange(0,350) if x not in test_index]\n",
    "        x_tr = X.iloc[train_index]\n",
    "        x_te = X.iloc[test_index]\n",
    "        y_tr = y.iloc[train_index]\n",
    "        y_te = y.iloc[test_index]\n",
    "        model = Lasso(alpha=C,fit_intercept=True, normalize=False)\n",
    "        model.fit(x_tr, y_tr)\n",
    "        rss_list.append(mean_squared_error(y_te,model.predict(x_te)) * size)\n",
    "        r_squared_list.append(model.score(x_te,y_te)) \n",
    "    return np.mean(rss_list),np.mean(r_squared_list)"
   ]
  },
  {
   "cell_type": "code",
   "execution_count": 214,
   "metadata": {},
   "outputs": [
    {
     "name": "stderr",
     "output_type": "stream",
     "text": [
      "100%|██████████| 4/4 [00:00<00:00, 24.08it/s]\n"
     ]
    }
   ],
   "source": [
    "RSS_list, R_squared_list, C_list = [],[],[]\n",
    "#Looping over alphas=[1e-3, 1e-2, 1e-1, 1]\n",
    "alphas=[1e-3, 1e-2, 1e-1, 1]\n",
    "for i in tqdm(range(len(alphas))):\n",
    "    C = alphas[i]\n",
    "    tmp_result = fit_lasso_reg(X_train,y_train,C)   #Store temp result \n",
    "    RSS_list.append(tmp_result[0])                  #Append lists\n",
    "    R_squared_list.append(tmp_result[1])\n",
    "    C_list.append(C) \n",
    "\n",
    "#Store in DataFrame\n",
    "df = pd.DataFrame({'C': C_list,'RSS': RSS_list, 'R_squared':R_squared_list})"
   ]
  },
  {
   "cell_type": "code",
   "execution_count": 217,
   "metadata": {},
   "outputs": [
    {
     "data": {
      "text/html": [
       "<div>\n",
       "<style scoped>\n",
       "    .dataframe tbody tr th:only-of-type {\n",
       "        vertical-align: middle;\n",
       "    }\n",
       "\n",
       "    .dataframe tbody tr th {\n",
       "        vertical-align: top;\n",
       "    }\n",
       "\n",
       "    .dataframe thead th {\n",
       "        text-align: right;\n",
       "    }\n",
       "</style>\n",
       "<table border=\"1\" class=\"dataframe\">\n",
       "  <thead>\n",
       "    <tr style=\"text-align: right;\">\n",
       "      <th></th>\n",
       "      <th>C</th>\n",
       "      <th>RSS</th>\n",
       "      <th>R_squared</th>\n",
       "    </tr>\n",
       "  </thead>\n",
       "  <tbody>\n",
       "    <tr>\n",
       "      <th>0</th>\n",
       "      <td>0.001</td>\n",
       "      <td>1663.102638</td>\n",
       "      <td>0.706945</td>\n",
       "    </tr>\n",
       "  </tbody>\n",
       "</table>\n",
       "</div>"
      ],
      "text/plain": [
       "       C          RSS  R_squared\n",
       "0  0.001  1663.102638   0.706945"
      ]
     },
     "execution_count": 217,
     "metadata": {},
     "output_type": "execute_result"
    }
   ],
   "source": [
    "df[df.RSS == min(df.RSS)]"
   ]
  },
  {
   "cell_type": "code",
   "execution_count": 219,
   "metadata": {},
   "outputs": [
    {
     "data": {
      "text/plain": [
       "0.7183631397822813"
      ]
     },
     "execution_count": 219,
     "metadata": {},
     "output_type": "execute_result"
    }
   ],
   "source": [
    "model = Lasso(alpha=0.001,fit_intercept=True, normalize=False)\n",
    "model.fit(X_train, y_train)\n",
    "model.score(X_test,y_test)"
   ]
  },
  {
   "cell_type": "code",
   "execution_count": 220,
   "metadata": {},
   "outputs": [
    {
     "name": "stdout",
     "output_type": "stream",
     "text": [
      "[-1.07633153e-01  6.55659731e-02 -7.74108429e-03  1.37940315e+00\n",
      " -8.46025746e+00  3.37750503e+00 -1.18475496e-02 -1.50930496e+00\n",
      "  2.75814143e-01 -1.43614837e-02 -7.52768028e-01  6.72211300e-03\n",
      " -5.38298821e-01]\n",
      "33.683198219160374\n"
     ]
    }
   ],
   "source": [
    "print(clf.coef_)\n",
    "print(clf.intercept_)"
   ]
  },
  {
   "cell_type": "code",
   "execution_count": null,
   "metadata": {
    "collapsed": true
   },
   "outputs": [],
   "source": []
  }
 ],
 "metadata": {
  "kernelspec": {
   "display_name": "Python [conda env:p36]",
   "language": "python",
   "name": "conda-env-p36-py"
  },
  "language_info": {
   "codemirror_mode": {
    "name": "ipython",
    "version": 3
   },
   "file_extension": ".py",
   "mimetype": "text/x-python",
   "name": "python",
   "nbconvert_exporter": "python",
   "pygments_lexer": "ipython3",
   "version": "3.6.8"
  }
 },
 "nbformat": 4,
 "nbformat_minor": 2
}
